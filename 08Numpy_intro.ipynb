{
 "cells": [
  {
   "cell_type": "code",
   "execution_count": 1,
   "id": "3681436e",
   "metadata": {},
   "outputs": [],
   "source": [
    "import numpy as np"
   ]
  },
  {
   "cell_type": "code",
   "execution_count": 2,
   "id": "e0996c4e",
   "metadata": {},
   "outputs": [
    {
     "data": {
      "text/plain": [
       "array([[8, 7, 8, 5],\n",
       "       [2, 6, 8, 1],\n",
       "       [8, 8, 9, 5]])"
      ]
     },
     "execution_count": 2,
     "metadata": {},
     "output_type": "execute_result"
    }
   ],
   "source": [
    "valoraciones = np.array([[8,7,8,5],[2,6,8,1],[8,8,9,5]]) # array de numpy el objeto mas popular de numpy\n",
    "valoraciones"
   ]
  },
  {
   "cell_type": "code",
   "execution_count": 3,
   "id": "21c39cd1",
   "metadata": {},
   "outputs": [
    {
     "data": {
      "text/plain": [
       "7"
      ]
     },
     "execution_count": 3,
     "metadata": {},
     "output_type": "execute_result"
    }
   ],
   "source": [
    "valoraciones[0][1] # acceder a elemento [fila][columna]"
   ]
  },
  {
   "cell_type": "code",
   "execution_count": 4,
   "id": "20ce61bc",
   "metadata": {},
   "outputs": [
    {
     "data": {
      "text/plain": [
       "7"
      ]
     },
     "execution_count": 4,
     "metadata": {},
     "output_type": "execute_result"
    }
   ],
   "source": [
    "valoraciones[0,1] # [fila, columna]"
   ]
  },
  {
   "cell_type": "code",
   "execution_count": 5,
   "id": "9ae3bc54",
   "metadata": {},
   "outputs": [],
   "source": [
    "valoraciones2 = np.array([[[8,7,8,5],[2,5,5,2]],[[2,6,8,4],[8,9,7,4]],[[8,8,9,3],[10,9,10,8]]]) #array de 3 dimensiones"
   ]
  },
  {
   "cell_type": "code",
   "execution_count": 6,
   "id": "bc6c3d01",
   "metadata": {},
   "outputs": [
    {
     "data": {
      "text/plain": [
       "array([[[ 8,  7,  8,  5],\n",
       "        [ 2,  5,  5,  2]],\n",
       "\n",
       "       [[ 2,  6,  8,  4],\n",
       "        [ 8,  9,  7,  4]],\n",
       "\n",
       "       [[ 8,  8,  9,  3],\n",
       "        [10,  9, 10,  8]]])"
      ]
     },
     "execution_count": 6,
     "metadata": {},
     "output_type": "execute_result"
    }
   ],
   "source": [
    "valoraciones2  \n",
    "#los valores representan 3 clientes que valoraron 4 productos en 2 años distintos"
   ]
  },
  {
   "cell_type": "code",
   "execution_count": 7,
   "id": "926e178c",
   "metadata": {},
   "outputs": [
    {
     "data": {
      "text/plain": [
       "5"
      ]
     },
     "execution_count": 7,
     "metadata": {},
     "output_type": "execute_result"
    }
   ],
   "source": [
    "valoraciones2[0,1,2]"
   ]
  },
  {
   "cell_type": "code",
   "execution_count": 8,
   "id": "c828bddf",
   "metadata": {},
   "outputs": [
    {
     "data": {
      "text/plain": [
       "array([[[0., 0., 0., 0.],\n",
       "        [0., 0., 0., 0.]],\n",
       "\n",
       "       [[0., 0., 0., 0.],\n",
       "        [0., 0., 0., 0.]],\n",
       "\n",
       "       [[0., 0., 0., 0.],\n",
       "        [0., 0., 0., 0.]]])"
      ]
     },
     "execution_count": 8,
     "metadata": {},
     "output_type": "execute_result"
    }
   ],
   "source": [
    "np.zeros((3,2,4)) # la misma estructura de arriba pero vacia"
   ]
  },
  {
   "cell_type": "code",
   "execution_count": 9,
   "id": "f7e68d8d",
   "metadata": {},
   "outputs": [
    {
     "data": {
      "text/plain": [
       "array([[[ 9.,  8.,  9.,  6.],\n",
       "        [ 3.,  6.,  6.,  3.]],\n",
       "\n",
       "       [[ 3.,  7.,  9.,  5.],\n",
       "        [ 9., 10.,  8.,  5.]],\n",
       "\n",
       "       [[ 9.,  9., 10.,  4.],\n",
       "        [11., 10., 11.,  9.]]])"
      ]
     },
     "execution_count": 9,
     "metadata": {},
     "output_type": "execute_result"
    }
   ],
   "source": [
    "valoraciones2 + np.ones((3,2,4)) # le sumamos un uno a todos los elementos del array"
   ]
  },
  {
   "cell_type": "code",
   "execution_count": 10,
   "id": "0fb54e8a",
   "metadata": {},
   "outputs": [
    {
     "data": {
      "text/plain": [
       "6.458333333333333"
      ]
     },
     "execution_count": 10,
     "metadata": {},
     "output_type": "execute_result"
    }
   ],
   "source": [
    "np.mean(valoraciones2) # la media de todos los valores del array"
   ]
  },
  {
   "cell_type": "code",
   "execution_count": 11,
   "id": "ef907d4d",
   "metadata": {},
   "outputs": [
    {
     "data": {
      "text/plain": [
       "array([[6.        , 7.        , 8.33333333, 4.        ],\n",
       "       [6.66666667, 7.66666667, 7.33333333, 4.66666667]])"
      ]
     },
     "execution_count": 11,
     "metadata": {},
     "output_type": "execute_result"
    }
   ],
   "source": [
    "np.mean(valoraciones2, axis=0) # axis especifica el eje en que queremos que ejecute la media"
   ]
  },
  {
   "cell_type": "code",
   "execution_count": 12,
   "id": "a653674e",
   "metadata": {},
   "outputs": [
    {
     "data": {
      "text/plain": [
       "array([[5. , 6. , 6.5, 3.5],\n",
       "       [5. , 7.5, 7.5, 4. ],\n",
       "       [9. , 8.5, 9.5, 5.5]])"
      ]
     },
     "execution_count": 12,
     "metadata": {},
     "output_type": "execute_result"
    }
   ],
   "source": [
    "np.mean(valoraciones2, axis=1)"
   ]
  },
  {
   "cell_type": "code",
   "execution_count": 13,
   "id": "64f093cb",
   "metadata": {},
   "outputs": [
    {
     "data": {
      "text/plain": [
       "array([[7.  , 3.5 ],\n",
       "       [5.  , 7.  ],\n",
       "       [7.  , 9.25]])"
      ]
     },
     "execution_count": 13,
     "metadata": {},
     "output_type": "execute_result"
    }
   ],
   "source": [
    "np.mean(valoraciones2, axis=2)"
   ]
  },
  {
   "cell_type": "code",
   "execution_count": 14,
   "id": "b0aed05d",
   "metadata": {},
   "outputs": [
    {
     "data": {
      "text/plain": [
       "array([[[ 1,  2],\n",
       "        [ 3,  4]],\n",
       "\n",
       "       [[ 5,  6],\n",
       "        [ 7,  8]],\n",
       "\n",
       "       [[ 9, 10],\n",
       "        [11, 12]]])"
      ]
     },
     "execution_count": 14,
     "metadata": {},
     "output_type": "execute_result"
    }
   ],
   "source": [
    "np.reshape([1,2,3,4,5,6,7,8,9,10,11,12],(3,2,2)) # convierte una lista a las dimensiones que queramos\n",
    "# Nota: las dimensiones ingresadas al multiplicarse deben ajustarse al numero de elementos de la lista ingresada"
   ]
  },
  {
   "cell_type": "code",
   "execution_count": null,
   "id": "46e1bd5d",
   "metadata": {},
   "outputs": [],
   "source": [
    "np.median(df[\"Columna1\"]) # median se puede usar sobre columnas de data frames para obtener su mediana"
   ]
  },
  {
   "cell_type": "code",
   "execution_count": 15,
   "id": "1a6f0f72",
   "metadata": {},
   "outputs": [
    {
     "data": {
      "text/plain": [
       "array([[0.14105859, 0.79144091],\n",
       "       [0.26801794, 0.75343722]])"
      ]
     },
     "execution_count": 15,
     "metadata": {},
     "output_type": "execute_result"
    }
   ],
   "source": [
    "np.random.rand(2,2) # el modulo random permite generar objetos aleatorios\n",
    "# rand genera un objeto de valores aleatorios entre 0 y 1 con las dimensiones ingresadas"
   ]
  }
 ],
 "metadata": {
  "kernelspec": {
   "display_name": "Python 3 (ipykernel)",
   "language": "python",
   "name": "python3"
  },
  "language_info": {
   "codemirror_mode": {
    "name": "ipython",
    "version": 3
   },
   "file_extension": ".py",
   "mimetype": "text/x-python",
   "name": "python",
   "nbconvert_exporter": "python",
   "pygments_lexer": "ipython3",
   "version": "3.10.5"
  }
 },
 "nbformat": 4,
 "nbformat_minor": 5
}
