{
 "cells": [
  {
   "cell_type": "code",
   "execution_count": 1,
   "id": "ad106b20",
   "metadata": {},
   "outputs": [
    {
     "name": "stdout",
     "output_type": "stream",
     "text": [
      "0.5004451274871826\n"
     ]
    }
   ],
   "source": [
    "# Medir tiempos de ejecución\n",
    "import time\n",
    "\n",
    "start = time.time()\n",
    "\n",
    "#El codigo que queremos ejecutar\n",
    "time.sleep(0.5) # Para crear un retardo medible en la ejecución\n",
    "\n",
    "end = time.time()\n",
    "\n",
    "print(end - start)"
   ]
  },
  {
   "cell_type": "code",
   "execution_count": 2,
   "id": "acb6bf2f",
   "metadata": {},
   "outputs": [
    {
     "name": "stdout",
     "output_type": "stream",
     "text": [
      "0:00:01.015000\n"
     ]
    }
   ],
   "source": [
    "# Visualizar horas minutos y segundos\n",
    "from datetime import timedelta\n",
    "\n",
    "start = time.monotonic()\n",
    "\n",
    "#Codigo que queremos ejecutar\n",
    " \n",
    "time.sleep(1) # retardo\n",
    "\n",
    "end = time.monotonic()\n",
    "\n",
    "print(timedelta(seconds= end - start))"
   ]
  },
  {
   "cell_type": "code",
   "execution_count": 3,
   "id": "b0ecc0ee",
   "metadata": {},
   "outputs": [
    {
     "name": "stdout",
     "output_type": "stream",
     "text": [
      "False\n"
     ]
    }
   ],
   "source": [
    "# Comparacion entre tiempo de ejecucion de dos procesos\n",
    "start = time.time()\n",
    "\n",
    "#nuestro codigo\n",
    "time.sleep(0.5)\n",
    "\n",
    "end = time.time()\n",
    "\n",
    "start2 = time.time()\n",
    "\n",
    "#Nuestro codigo\n",
    "time.sleep(0.501)\n",
    "\n",
    "end2 = time.time()\n",
    "\n",
    "print(end - start > end2 - start2)"
   ]
  },
  {
   "cell_type": "code",
   "execution_count": 1,
   "id": "34b137d3",
   "metadata": {},
   "outputs": [
    {
     "name": "stdout",
     "output_type": "stream",
     "text": [
      "[0.5037648677825928, 0.5020842552185059, 0.5196776390075684, 0.5113358497619629, 0.50032639503479, 0.5009257793426514, 0.513948917388916, 0.5109248161315918, 0.5125644207000732, 0.5343203544616699, 0.5098247528076172, 0.505077600479126, 0.513164758682251, 0.5004887580871582, 0.5145711898803711, 0.5138027667999268, 0.5153987407684326, 0.5136213302612305, 0.5010106563568115, 0.5176405906677246, 0.510284423828125, 0.5135884284973145, 0.5008792877197266, 0.5021586418151855, 0.5147378444671631, 0.5008976459503174, 0.5144875049591064, 0.5127396583557129, 0.5002079010009766, 0.5048854351043701]\n",
      "Tiempo promedio:  0.5096447070439657\n",
      "Varianza:  5.792596940289564e-05\n"
     ]
    }
   ],
   "source": [
    "# Recolectar varios tiempos para analizar la variacion\n",
    "import time\n",
    "import numpy as np\n",
    "\n",
    "repeticiones = 30\n",
    "tiempos = []\n",
    "\n",
    "for i in range(repeticiones):\n",
    "    start = time.time()\n",
    "    \n",
    "    #codigo\n",
    "    time.sleep(0.5)\n",
    "    \n",
    "    end = time.time()\n",
    "    \n",
    "    tiempos.append(end - start)\n",
    "    \n",
    "print(tiempos)\n",
    "\n",
    "tiempoProm = sum(tiempos)/len(tiempos)\n",
    "\n",
    "print(\"Tiempo promedio: \",tiempoProm)\n",
    "\n",
    "print(\"Varianza: \", np.var(tiempos))"
   ]
  }
 ],
 "metadata": {
  "kernelspec": {
   "display_name": "Python 3",
   "language": "python",
   "name": "python3"
  },
  "language_info": {
   "codemirror_mode": {
    "name": "ipython",
    "version": 3
   },
   "file_extension": ".py",
   "mimetype": "text/x-python",
   "name": "python",
   "nbconvert_exporter": "python",
   "pygments_lexer": "ipython3",
   "version": "3.9.13"
  }
 },
 "nbformat": 4,
 "nbformat_minor": 5
}
