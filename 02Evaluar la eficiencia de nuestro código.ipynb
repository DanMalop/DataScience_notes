{
 "cells": [
  {
   "cell_type": "code",
   "execution_count": 1,
   "id": "ad106b20",
   "metadata": {},
   "outputs": [
    {
     "name": "stdout",
     "output_type": "stream",
     "text": [
      "0.5004451274871826\n"
     ]
    }
   ],
   "source": [
    "# Medir tiempos de ejecución\n",
    "import time\n",
    "\n",
    "start = time.time()\n",
    "\n",
    "#El codigo que queremos ejecutar\n",
    "time.sleep(0.5) # Para crear un retardo medible en la ejecución\n",
    "\n",
    "end = time.time()\n",
    "\n",
    "print(end -start)"
   ]
  },
  {
   "cell_type": "code",
   "execution_count": 2,
   "id": "acb6bf2f",
   "metadata": {},
   "outputs": [
    {
     "name": "stdout",
     "output_type": "stream",
     "text": [
      "0:00:01.015000\n"
     ]
    }
   ],
   "source": [
    "# Visualizar horas minutos y segundos\n",
    "from datetime import timedelta\n",
    "\n",
    "start = time.monotonic()\n",
    "\n",
    "#Codigo que queremos ejecutar\n",
    " \n",
    "time.sleep(1) # retardo\n",
    "\n",
    "end = time.monotonic()\n",
    "\n",
    "print(timedelta(seconds= end - start))"
   ]
  },
  {
   "cell_type": "code",
   "execution_count": 3,
   "id": "b0ecc0ee",
   "metadata": {},
   "outputs": [
    {
     "name": "stdout",
     "output_type": "stream",
     "text": [
      "False\n"
     ]
    }
   ],
   "source": [
    "# Comparacion entre tiempo de ejecucion de dos procesos\n",
    "start = time.time()\n",
    "\n",
    "#nuestro codigo\n",
    "time.sleep(0.5)\n",
    "\n",
    "end = time.time()\n",
    "\n",
    "start2 = time.time()\n",
    "\n",
    "#Nuestro codigo\n",
    "time.sleep(0.501)\n",
    "\n",
    "end2 = time.time()\n",
    "\n",
    "print(end - start > end2 - start2)"
   ]
  },
  {
   "cell_type": "code",
   "execution_count": 7,
   "id": "34b137d3",
   "metadata": {},
   "outputs": [
    {
     "name": "stdout",
     "output_type": "stream",
     "text": [
      "[0.5000624656677246, 0.5000052452087402, 0.5016043186187744, 0.5000631809234619, 0.5036568641662598, 0.5017914772033691, 0.5043096542358398, 0.5011255741119385, 0.504357099533081, 0.5018255710601807, 0.5012547969818115, 0.5039465427398682, 0.501234769821167, 0.500014066696167, 0.5000638961791992, 0.5041258335113525, 0.5007257461547852, 0.5037446022033691, 0.5000622272491455, 0.5009808540344238, 0.50006103515625, 0.5017962455749512, 0.5034971237182617, 0.5021076202392578, 0.5021138191223145, 0.5018491744995117, 0.5000605583190918, 0.5004241466522217, 0.5000553131103516, 0.5000123977661133]\n",
      "Tiempo promedio:  0.5015644073486328\n"
     ]
    }
   ],
   "source": [
    "# Recolectar varios tiempos para analizar la variacion\n",
    "import time\n",
    "\n",
    "repeticiones = 30\n",
    "tiempos = []\n",
    "\n",
    "for i in range(repeticiones):\n",
    "    start = time.time()\n",
    "    \n",
    "    #codigo\n",
    "    time.sleep(0.5)\n",
    "    \n",
    "    end = time.time()\n",
    "    \n",
    "    tiempos.append(end - start)\n",
    "    \n",
    "print(tiempos)\n",
    "\n",
    "tiempoProm = sum(tiempos)/len(tiempos)\n",
    "\n",
    "print(\"Tiempo promedio: \",tiempoProm)"
   ]
  }
 ],
 "metadata": {
  "kernelspec": {
   "display_name": "Python 3 (ipykernel)",
   "language": "python",
   "name": "python3"
  },
  "language_info": {
   "codemirror_mode": {
    "name": "ipython",
    "version": 3
   },
   "file_extension": ".py",
   "mimetype": "text/x-python",
   "name": "python",
   "nbconvert_exporter": "python",
   "pygments_lexer": "ipython3",
   "version": "3.10.5"
  }
 },
 "nbformat": 4,
 "nbformat_minor": 5
}
