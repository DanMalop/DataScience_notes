{
 "cells": [
  {
   "cell_type": "code",
   "execution_count": 5,
   "id": "931d3dba-0cca-4978-ba36-0691296cd53f",
   "metadata": {},
   "outputs": [],
   "source": [
    "import pandas as pd \n",
    "import numpy as np\n",
    "df = pd.read_csv(r\"C:\\Users\\dd_18\\Data science\\Curso_LinkedIn\\2008.csv\",nrows=100000)"
   ]
  },
  {
   "cell_type": "markdown",
   "id": "7f98d1a8-6172-43c2-913a-bfb05c37b2a9",
   "metadata": {},
   "source": [
    "### Introducción\n",
    "vamos a ver como deterctar los datos que toman valores extremadamente grandes o pequeños, llamados **outlayes**. Vamos a ver dos maneras de hacerlo, primero usando un criterio para una sola variable y en segundo lugar una aproximación multidimencional."
   ]
  },
  {
   "cell_type": "code",
   "execution_count": 6,
   "id": "ee027e22-1c2c-4217-bc1a-9ff6e1f36216",
   "metadata": {},
   "outputs": [],
   "source": [
    "x = df[\"ArrDelay\"].dropna()"
   ]
  },
  {
   "cell_type": "markdown",
   "id": "5c9ed63d-5ef0-45ba-aa77-60d10de58bb4",
   "metadata": {},
   "source": [
    "Ahora vamos a necesitar los **cuartiles**: Los cuartiles son una medida estadistica que separa el 25% inferior de los datos del 75% superior o diceversa. "
   ]
  },
  {
   "cell_type": "code",
   "execution_count": 7,
   "id": "d0f529cd-13cd-4062-8746-661f10975d66",
   "metadata": {},
   "outputs": [],
   "source": [
    "Q1 = np.percentile(x, 25) # obteniendo el primer cuartil, 25% inferior\n",
    "Q3 = np.percentile(x,75) # obteniendo tercer cuartil (el segundo cuartil es la mediana)\n",
    "rangointer = Q3 - Q1 # rango intercuartilico"
   ]
  },
  {
   "cell_type": "markdown",
   "id": "9cdea9c8-5820-4394-9100-cd0d73f2c235",
   "metadata": {},
   "source": [
    "Se nececitan estas medidas ya que un criterio clásico de seleccion de outlayers es definir dos **umbrales**, uno superior y uno inferior"
   ]
  },
  {
   "cell_type": "code",
   "execution_count": 8,
   "id": "40e1b19d-7a2f-4e7b-98ed-a8ff7fd1c991",
   "metadata": {},
   "outputs": [],
   "source": [
    "umbralsuperior = Q3 + 1.5*rangointer #por definición\n",
    "umbralinferior = Q1 - 1.5*rangointer"
   ]
  },
  {
   "cell_type": "code",
   "execution_count": 9,
   "id": "ee26bf11-f22f-4cd5-81f4-77241bfc1763",
   "metadata": {},
   "outputs": [
    {
     "data": {
      "text/plain": [
       "38.5"
      ]
     },
     "execution_count": 9,
     "metadata": {},
     "output_type": "execute_result"
    }
   ],
   "source": [
    "umbralsuperior"
   ]
  },
  {
   "cell_type": "code",
   "execution_count": 10,
   "id": "250cab91-ebc3-4309-a3da-b1f4e4ee8f16",
   "metadata": {},
   "outputs": [
    {
     "data": {
      "text/plain": [
       "-37.5"
      ]
     },
     "execution_count": 10,
     "metadata": {},
     "output_type": "execute_result"
    }
   ],
   "source": [
    "umbralinferior"
   ]
  }
 ],
 "metadata": {
  "kernelspec": {
   "display_name": "Python 3 (ipykernel)",
   "language": "python",
   "name": "python3"
  },
  "language_info": {
   "codemirror_mode": {
    "name": "ipython",
    "version": 3
   },
   "file_extension": ".py",
   "mimetype": "text/x-python",
   "name": "python",
   "nbconvert_exporter": "python",
   "pygments_lexer": "ipython3",
   "version": "3.9.7"
  }
 },
 "nbformat": 4,
 "nbformat_minor": 5
}
