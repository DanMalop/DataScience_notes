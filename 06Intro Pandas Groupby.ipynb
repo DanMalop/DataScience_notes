{
 "cells": [
  {
   "cell_type": "code",
   "execution_count": 1,
   "id": "8617e6d7",
   "metadata": {},
   "outputs": [],
   "source": [
    "import pandas as pd\n",
    "df = pd.read_csv(\"C:/Users/dd_18/Documents/Python_para_data_science/DataScience_notes/2008.csv\")"
   ]
  },
  {
   "attachments": {},
   "cell_type": "markdown",
   "id": "d7dde73e",
   "metadata": {},
   "source": [
    "Groupby\n",
    "Es una herramienta de resumen de nuestros datos que nos permite realizar operaciones matemáticas sencillas agrupando por categorias."
   ]
  },
  {
   "cell_type": "code",
   "execution_count": 2,
   "id": "190add6c",
   "metadata": {},
   "outputs": [
    {
     "data": {
      "text/plain": [
       "DayOfWeek\n",
       "1    1583.0\n",
       "2    1951.0\n",
       "3    1510.0\n",
       "4    2453.0\n",
       "5    1707.0\n",
       "6    1525.0\n",
       "7    2461.0\n",
       "Name: ArrDelay, dtype: float64"
      ]
     },
     "execution_count": 2,
     "metadata": {},
     "output_type": "execute_result"
    }
   ],
   "source": [
    "df.groupby(by = \"DayOfWeek\")[\"ArrDelay\"].max()\n",
    "#Groupby se aplica sobre el df y depende de 3 elementos principales,el nombre de una columna, el nombre de otra y una funcion\n",
    "# El groupby nos agrupa por cada dia de la semana y nos da un valor de los retrasos de los vuelos y le aplica una funcion\n",
    "#Se obtiene el maximo retraso que hubo para cada dia de la semana a partir de la informacion de todos los vuelos"
   ]
  },
  {
   "attachments": {},
   "cell_type": "markdown",
   "id": "b65d3200",
   "metadata": {},
   "source": [
    "El retraso maximo que ha tenido cada dia de la semana en toda nuestra base de datos"
   ]
  },
  {
   "cell_type": "code",
   "execution_count": 3,
   "id": "cbec5bd1",
   "metadata": {},
   "outputs": [
    {
     "data": {
      "text/plain": [
       "DayOfWeek\n",
       "1     8.210850\n",
       "2     7.481208\n",
       "3     6.522017\n",
       "4     8.411599\n",
       "5    10.953440\n",
       "6     5.789666\n",
       "7     9.495886\n",
       "Name: ArrDelay, dtype: float64"
      ]
     },
     "execution_count": 3,
     "metadata": {},
     "output_type": "execute_result"
    }
   ],
   "source": [
    "# Otras funciones que podriamos aplicar son\n",
    "df.groupby(by = \"DayOfWeek\")[\"ArrDelay\"].mean() # nos da la media de retraso para cada dia de la semana"
   ]
  },
  {
   "cell_type": "code",
   "execution_count": 4,
   "id": "9e66e470",
   "metadata": {},
   "outputs": [
    {
     "data": {
      "text/plain": [
       "DayOfWeek\n",
       "1   -519.0\n",
       "2    -89.0\n",
       "3    -87.0\n",
       "4   -129.0\n",
       "5    -86.0\n",
       "6    -91.0\n",
       "7    -92.0\n",
       "Name: ArrDelay, dtype: float64"
      ]
     },
     "execution_count": 4,
     "metadata": {},
     "output_type": "execute_result"
    }
   ],
   "source": [
    "df.groupby(by = \"DayOfWeek\")[\"ArrDelay\"].min()"
   ]
  },
  {
   "cell_type": "code",
   "execution_count": 5,
   "id": "4eb97ad6",
   "metadata": {},
   "outputs": [
    {
     "data": {
      "text/plain": [
       "DayOfWeek\n",
       "1    1013410\n",
       "2    1005992\n",
       "3    1016995\n",
       "4    1011970\n",
       "5    1008872\n",
       "6     841663\n",
       "7     956127\n",
       "Name: ArrDelay, dtype: int64"
      ]
     },
     "execution_count": 5,
     "metadata": {},
     "output_type": "execute_result"
    }
   ],
   "source": [
    "df.groupby(by = \"DayOfWeek\")[\"ArrDelay\"].count() # numero de vuelos por dia de la semana\n",
    "#Muestra que durante los fines de semana hay menos vuelos"
   ]
  },
  {
   "cell_type": "code",
   "execution_count": 6,
   "id": "9a390ad2",
   "metadata": {},
   "outputs": [
    {
     "data": {
      "text/html": [
       "<div>\n",
       "<style scoped>\n",
       "    .dataframe tbody tr th:only-of-type {\n",
       "        vertical-align: middle;\n",
       "    }\n",
       "\n",
       "    .dataframe tbody tr th {\n",
       "        vertical-align: top;\n",
       "    }\n",
       "\n",
       "    .dataframe thead th {\n",
       "        text-align: right;\n",
       "    }\n",
       "</style>\n",
       "<table border=\"1\" class=\"dataframe\">\n",
       "  <thead>\n",
       "    <tr style=\"text-align: right;\">\n",
       "      <th></th>\n",
       "      <th>count</th>\n",
       "      <th>mean</th>\n",
       "      <th>std</th>\n",
       "      <th>min</th>\n",
       "      <th>25%</th>\n",
       "      <th>50%</th>\n",
       "      <th>75%</th>\n",
       "      <th>max</th>\n",
       "    </tr>\n",
       "    <tr>\n",
       "      <th>DayOfWeek</th>\n",
       "      <th></th>\n",
       "      <th></th>\n",
       "      <th></th>\n",
       "      <th></th>\n",
       "      <th></th>\n",
       "      <th></th>\n",
       "      <th></th>\n",
       "      <th></th>\n",
       "    </tr>\n",
       "  </thead>\n",
       "  <tbody>\n",
       "    <tr>\n",
       "      <th>1</th>\n",
       "      <td>1013410.0</td>\n",
       "      <td>8.210850</td>\n",
       "      <td>38.013811</td>\n",
       "      <td>-519.0</td>\n",
       "      <td>-10.0</td>\n",
       "      <td>-2.0</td>\n",
       "      <td>12.0</td>\n",
       "      <td>1583.0</td>\n",
       "    </tr>\n",
       "    <tr>\n",
       "      <th>2</th>\n",
       "      <td>1005992.0</td>\n",
       "      <td>7.481208</td>\n",
       "      <td>38.361073</td>\n",
       "      <td>-89.0</td>\n",
       "      <td>-11.0</td>\n",
       "      <td>-3.0</td>\n",
       "      <td>11.0</td>\n",
       "      <td>1951.0</td>\n",
       "    </tr>\n",
       "    <tr>\n",
       "      <th>3</th>\n",
       "      <td>1016995.0</td>\n",
       "      <td>6.522017</td>\n",
       "      <td>36.024679</td>\n",
       "      <td>-87.0</td>\n",
       "      <td>-10.0</td>\n",
       "      <td>-3.0</td>\n",
       "      <td>10.0</td>\n",
       "      <td>1510.0</td>\n",
       "    </tr>\n",
       "    <tr>\n",
       "      <th>4</th>\n",
       "      <td>1011970.0</td>\n",
       "      <td>8.411599</td>\n",
       "      <td>37.397411</td>\n",
       "      <td>-129.0</td>\n",
       "      <td>-10.0</td>\n",
       "      <td>-1.0</td>\n",
       "      <td>12.0</td>\n",
       "      <td>2453.0</td>\n",
       "    </tr>\n",
       "    <tr>\n",
       "      <th>5</th>\n",
       "      <td>1008872.0</td>\n",
       "      <td>10.953440</td>\n",
       "      <td>40.252320</td>\n",
       "      <td>-86.0</td>\n",
       "      <td>-9.0</td>\n",
       "      <td>0.0</td>\n",
       "      <td>15.0</td>\n",
       "      <td>1707.0</td>\n",
       "    </tr>\n",
       "    <tr>\n",
       "      <th>6</th>\n",
       "      <td>841663.0</td>\n",
       "      <td>5.789666</td>\n",
       "      <td>37.163120</td>\n",
       "      <td>-91.0</td>\n",
       "      <td>-11.0</td>\n",
       "      <td>-3.0</td>\n",
       "      <td>9.0</td>\n",
       "      <td>1525.0</td>\n",
       "    </tr>\n",
       "    <tr>\n",
       "      <th>7</th>\n",
       "      <td>956127.0</td>\n",
       "      <td>9.495886</td>\n",
       "      <td>41.759296</td>\n",
       "      <td>-92.0</td>\n",
       "      <td>-10.0</td>\n",
       "      <td>-2.0</td>\n",
       "      <td>12.0</td>\n",
       "      <td>2461.0</td>\n",
       "    </tr>\n",
       "  </tbody>\n",
       "</table>\n",
       "</div>"
      ],
      "text/plain": [
       "               count       mean        std    min   25%  50%   75%     max\n",
       "DayOfWeek                                                                 \n",
       "1          1013410.0   8.210850  38.013811 -519.0 -10.0 -2.0  12.0  1583.0\n",
       "2          1005992.0   7.481208  38.361073  -89.0 -11.0 -3.0  11.0  1951.0\n",
       "3          1016995.0   6.522017  36.024679  -87.0 -10.0 -3.0  10.0  1510.0\n",
       "4          1011970.0   8.411599  37.397411 -129.0 -10.0 -1.0  12.0  2453.0\n",
       "5          1008872.0  10.953440  40.252320  -86.0  -9.0  0.0  15.0  1707.0\n",
       "6           841663.0   5.789666  37.163120  -91.0 -11.0 -3.0   9.0  1525.0\n",
       "7           956127.0   9.495886  41.759296  -92.0 -10.0 -2.0  12.0  2461.0"
      ]
     },
     "execution_count": 6,
     "metadata": {},
     "output_type": "execute_result"
    }
   ],
   "source": [
    "df.groupby(by = \"DayOfWeek\")[\"ArrDelay\"].describe() # nos ofrece un resumen estadistico para cada dia de la semana  min 43:51"
   ]
  },
  {
   "cell_type": "code",
   "execution_count": 8,
   "id": "0b558f31",
   "metadata": {},
   "outputs": [
    {
     "data": {
      "text/html": [
       "<div>\n",
       "<style scoped>\n",
       "    .dataframe tbody tr th:only-of-type {\n",
       "        vertical-align: middle;\n",
       "    }\n",
       "\n",
       "    .dataframe tbody tr th {\n",
       "        vertical-align: top;\n",
       "    }\n",
       "\n",
       "    .dataframe thead th {\n",
       "        text-align: right;\n",
       "    }\n",
       "</style>\n",
       "<table border=\"1\" class=\"dataframe\">\n",
       "  <thead>\n",
       "    <tr style=\"text-align: right;\">\n",
       "      <th></th>\n",
       "      <th>ArrDelay</th>\n",
       "      <th>DepDelay</th>\n",
       "    </tr>\n",
       "    <tr>\n",
       "      <th>DayOfWeek</th>\n",
       "      <th></th>\n",
       "      <th></th>\n",
       "    </tr>\n",
       "  </thead>\n",
       "  <tbody>\n",
       "    <tr>\n",
       "      <th>1</th>\n",
       "      <td>8.210850</td>\n",
       "      <td>10.269990</td>\n",
       "    </tr>\n",
       "    <tr>\n",
       "      <th>2</th>\n",
       "      <td>7.481208</td>\n",
       "      <td>8.976897</td>\n",
       "    </tr>\n",
       "    <tr>\n",
       "      <th>3</th>\n",
       "      <td>6.522017</td>\n",
       "      <td>8.289761</td>\n",
       "    </tr>\n",
       "    <tr>\n",
       "      <th>4</th>\n",
       "      <td>8.411599</td>\n",
       "      <td>9.772897</td>\n",
       "    </tr>\n",
       "    <tr>\n",
       "      <th>5</th>\n",
       "      <td>10.953440</td>\n",
       "      <td>12.158036</td>\n",
       "    </tr>\n",
       "    <tr>\n",
       "      <th>6</th>\n",
       "      <td>5.789666</td>\n",
       "      <td>8.645681</td>\n",
       "    </tr>\n",
       "    <tr>\n",
       "      <th>7</th>\n",
       "      <td>9.495886</td>\n",
       "      <td>11.568973</td>\n",
       "    </tr>\n",
       "  </tbody>\n",
       "</table>\n",
       "</div>"
      ],
      "text/plain": [
       "            ArrDelay   DepDelay\n",
       "DayOfWeek                      \n",
       "1           8.210850  10.269990\n",
       "2           7.481208   8.976897\n",
       "3           6.522017   8.289761\n",
       "4           8.411599   9.772897\n",
       "5          10.953440  12.158036\n",
       "6           5.789666   8.645681\n",
       "7           9.495886  11.568973"
      ]
     },
     "execution_count": 8,
     "metadata": {},
     "output_type": "execute_result"
    }
   ],
   "source": [
    "df.groupby(by = \"DayOfWeek\")[[\"ArrDelay\", \"DepDelay\"]].mean()\n",
    "#se muestra el promedio del ArrDelay y DepDelay de cada dia en dos columnas diferentes para poder compararlos\n",
    "#En groupby se pone el dato de acuerdo al cual se quiere agrupar y en corchetes la lista de las columnas sobre las que se quiere\n",
    "#realizar la funcion y de las que se quiere visualizar el resultado\n"
   ]
  },
  {
   "cell_type": "code",
   "execution_count": 9,
   "id": "3abd8228",
   "metadata": {},
   "outputs": [
    {
     "data": {
      "text/plain": [
       "DayOfWeek\n",
       "1    2102.0\n",
       "2    2040.0\n",
       "3    1597.0\n",
       "4    2582.0\n",
       "5    1793.0\n",
       "6    1616.0\n",
       "7    2553.0\n",
       "Name: ArrDelay, dtype: float64"
      ]
     },
     "execution_count": 9,
     "metadata": {},
     "output_type": "execute_result"
    }
   ],
   "source": [
    "df.groupby(by = \"DayOfWeek\")[\"ArrDelay\"].max() - df.groupby(by = \"DayOfWeek\")[\"ArrDelay\"].min()\n",
    "#Podemos realizar operaciones entre grupos, en este caso se resta el maximo al minimo del ArrDelay para cada dia de la semana\n",
    "#de esta manera ponemos observar el rango de valores para cada dia de la semana, ver cual es mas o menos amplio "
   ]
  },
  {
   "cell_type": "code",
   "execution_count": 9,
   "id": "8615ee78",
   "metadata": {},
   "outputs": [],
   "source": [
    "dfATLHOU = df[df.Origin.isin([\"ATL\", \"HOU\"])] \n",
    "#nuevo data frame solo de vuelos de atlanta y houston"
   ]
  },
  {
   "cell_type": "code",
   "execution_count": 10,
   "id": "4a579db4",
   "metadata": {},
   "outputs": [
    {
     "data": {
      "text/plain": [
       "DayOfWeek  Origin\n",
       "1          ATL        9.123436\n",
       "           HOU        6.356856\n",
       "2          ATL        8.933587\n",
       "           HOU        9.348112\n",
       "3          ATL        8.809146\n",
       "           HOU        9.073109\n",
       "4          ATL       10.186501\n",
       "           HOU       12.994016\n",
       "5          ATL       14.797440\n",
       "           HOU       11.036545\n",
       "6          ATL        9.511662\n",
       "           HOU        4.283933\n",
       "7          ATL       13.798627\n",
       "           HOU        7.045287\n",
       "Name: ArrDelay, dtype: float64"
      ]
     },
     "execution_count": 10,
     "metadata": {},
     "output_type": "execute_result"
    }
   ],
   "source": [
    "dfATLHOU.groupby(by = [\"DayOfWeek\", \"Origin\"])[\"ArrDelay\"].mean()\n",
    "# vemos para cada dia de la semana los vuelos que salen de atlanta y los que salen de houston con la media de sus retrasos\n",
    "#En este caso se agrupa dentro de groupby de acuerdo a dos datos o dos columnas del df, las cuales se ingresan como una lista "
   ]
  },
  {
   "cell_type": "code",
   "execution_count": 11,
   "id": "fb677d08",
   "metadata": {},
   "outputs": [
    {
     "data": {
      "text/plain": [
       "Origin  DayOfWeek\n",
       "ATL     1             9.123436\n",
       "        2             8.933587\n",
       "        3             8.809146\n",
       "        4            10.186501\n",
       "        5            14.797440\n",
       "        6             9.511662\n",
       "        7            13.798627\n",
       "HOU     1             6.356856\n",
       "        2             9.348112\n",
       "        3             9.073109\n",
       "        4            12.994016\n",
       "        5            11.036545\n",
       "        6             4.283933\n",
       "        7             7.045287\n",
       "Name: ArrDelay, dtype: float64"
      ]
     },
     "execution_count": 11,
     "metadata": {},
     "output_type": "execute_result"
    }
   ],
   "source": [
    "dfATLHOU.groupby(by = [\"Origin\", \"DayOfWeek\"])[\"ArrDelay\"].mean()\n",
    "#Es muy importante el orden dentro de la lista para las columnas ingresadas en groupby\n",
    "#vemos en ambas ciudades la media del retraso por cada dia de la semana, invertimos la lista en by = "
   ]
  },
  {
   "cell_type": "code",
   "execution_count": 14,
   "id": "55032380",
   "metadata": {},
   "outputs": [],
   "source": [
    "mygroupby = dfATLHOU.groupby(by = [\"Origin\", \"DayOfWeek\"])[\"ArrDelay\"]\n",
    "#Los objetos groupby se pueden almacenar en variables (instanciar)"
   ]
  },
  {
   "cell_type": "code",
   "execution_count": 16,
   "id": "8f115ffa",
   "metadata": {},
   "outputs": [
    {
     "name": "stdout",
     "output_type": "stream",
     "text": [
      "<class 'pandas.core.groupby.generic.SeriesGroupBy'>\n"
     ]
    }
   ],
   "source": [
    "mygroupby\n",
    "#Obserba el tipo de variable/objeto que guarda pandas"
   ]
  },
  {
   "cell_type": "code",
   "execution_count": 17,
   "id": "3ff30f73",
   "metadata": {},
   "outputs": [
    {
     "data": {
      "text/plain": [
       "Origin  DayOfWeek\n",
       "ATL     1             407.0\n",
       "        2             848.0\n",
       "        3             876.0\n",
       "        4             571.0\n",
       "        5             699.0\n",
       "        6             483.0\n",
       "        7             612.0\n",
       "HOU     1             383.0\n",
       "        2             546.0\n",
       "        3             639.0\n",
       "        4            1082.0\n",
       "        5             560.0\n",
       "        6             917.0\n",
       "        7             685.0\n",
       "Name: ArrDelay, dtype: float64"
      ]
     },
     "execution_count": 17,
     "metadata": {},
     "output_type": "execute_result"
    }
   ],
   "source": [
    "mygroupby.max()\n",
    "#ahora podemos modificar directamente la funcion aplicada sobre la variable del groupby, lo que es mas rápido"
   ]
  },
  {
   "cell_type": "code",
   "execution_count": 18,
   "id": "e00fb5c5",
   "metadata": {},
   "outputs": [
    {
     "data": {
      "text/html": [
       "<div>\n",
       "<style scoped>\n",
       "    .dataframe tbody tr th:only-of-type {\n",
       "        vertical-align: middle;\n",
       "    }\n",
       "\n",
       "    .dataframe tbody tr th {\n",
       "        vertical-align: top;\n",
       "    }\n",
       "\n",
       "    .dataframe thead th {\n",
       "        text-align: right;\n",
       "    }\n",
       "</style>\n",
       "<table border=\"1\" class=\"dataframe\">\n",
       "  <thead>\n",
       "    <tr style=\"text-align: right;\">\n",
       "      <th></th>\n",
       "      <th></th>\n",
       "      <th>count</th>\n",
       "      <th>mean</th>\n",
       "      <th>std</th>\n",
       "      <th>min</th>\n",
       "      <th>25%</th>\n",
       "      <th>50%</th>\n",
       "      <th>75%</th>\n",
       "      <th>max</th>\n",
       "    </tr>\n",
       "    <tr>\n",
       "      <th>Origin</th>\n",
       "      <th>DayOfWeek</th>\n",
       "      <th></th>\n",
       "      <th></th>\n",
       "      <th></th>\n",
       "      <th></th>\n",
       "      <th></th>\n",
       "      <th></th>\n",
       "      <th></th>\n",
       "      <th></th>\n",
       "    </tr>\n",
       "  </thead>\n",
       "  <tbody>\n",
       "    <tr>\n",
       "      <th rowspan=\"7\" valign=\"top\">ATL</th>\n",
       "      <th>1</th>\n",
       "      <td>60598.0</td>\n",
       "      <td>9.123436</td>\n",
       "      <td>30.958642</td>\n",
       "      <td>-69.0</td>\n",
       "      <td>-8.0</td>\n",
       "      <td>1.0</td>\n",
       "      <td>14.0</td>\n",
       "      <td>407.0</td>\n",
       "    </tr>\n",
       "    <tr>\n",
       "      <th>2</th>\n",
       "      <td>59732.0</td>\n",
       "      <td>8.933587</td>\n",
       "      <td>34.750658</td>\n",
       "      <td>-89.0</td>\n",
       "      <td>-9.0</td>\n",
       "      <td>-1.0</td>\n",
       "      <td>13.0</td>\n",
       "      <td>848.0</td>\n",
       "    </tr>\n",
       "    <tr>\n",
       "      <th>3</th>\n",
       "      <td>60245.0</td>\n",
       "      <td>8.809146</td>\n",
       "      <td>34.343042</td>\n",
       "      <td>-56.0</td>\n",
       "      <td>-9.0</td>\n",
       "      <td>0.0</td>\n",
       "      <td>13.0</td>\n",
       "      <td>876.0</td>\n",
       "    </tr>\n",
       "    <tr>\n",
       "      <th>4</th>\n",
       "      <td>59721.0</td>\n",
       "      <td>10.186501</td>\n",
       "      <td>35.261512</td>\n",
       "      <td>-51.0</td>\n",
       "      <td>-8.0</td>\n",
       "      <td>1.0</td>\n",
       "      <td>15.0</td>\n",
       "      <td>571.0</td>\n",
       "    </tr>\n",
       "    <tr>\n",
       "      <th>5</th>\n",
       "      <td>60007.0</td>\n",
       "      <td>14.797440</td>\n",
       "      <td>38.859778</td>\n",
       "      <td>-51.0</td>\n",
       "      <td>-7.0</td>\n",
       "      <td>3.0</td>\n",
       "      <td>20.0</td>\n",
       "      <td>699.0</td>\n",
       "    </tr>\n",
       "    <tr>\n",
       "      <th>6</th>\n",
       "      <td>49734.0</td>\n",
       "      <td>9.511662</td>\n",
       "      <td>36.020584</td>\n",
       "      <td>-61.0</td>\n",
       "      <td>-10.0</td>\n",
       "      <td>-1.0</td>\n",
       "      <td>15.0</td>\n",
       "      <td>483.0</td>\n",
       "    </tr>\n",
       "    <tr>\n",
       "      <th>7</th>\n",
       "      <td>57664.0</td>\n",
       "      <td>13.798627</td>\n",
       "      <td>42.466233</td>\n",
       "      <td>-86.0</td>\n",
       "      <td>-8.0</td>\n",
       "      <td>1.0</td>\n",
       "      <td>17.0</td>\n",
       "      <td>612.0</td>\n",
       "    </tr>\n",
       "    <tr>\n",
       "      <th rowspan=\"7\" valign=\"top\">HOU</th>\n",
       "      <th>1</th>\n",
       "      <td>8205.0</td>\n",
       "      <td>6.356856</td>\n",
       "      <td>28.887113</td>\n",
       "      <td>-47.0</td>\n",
       "      <td>-7.0</td>\n",
       "      <td>-2.0</td>\n",
       "      <td>9.0</td>\n",
       "      <td>383.0</td>\n",
       "    </tr>\n",
       "    <tr>\n",
       "      <th>2</th>\n",
       "      <td>8368.0</td>\n",
       "      <td>9.348112</td>\n",
       "      <td>35.321852</td>\n",
       "      <td>-44.0</td>\n",
       "      <td>-7.0</td>\n",
       "      <td>-1.0</td>\n",
       "      <td>12.0</td>\n",
       "      <td>546.0</td>\n",
       "    </tr>\n",
       "    <tr>\n",
       "      <th>3</th>\n",
       "      <td>8330.0</td>\n",
       "      <td>9.073109</td>\n",
       "      <td>33.191673</td>\n",
       "      <td>-39.0</td>\n",
       "      <td>-7.0</td>\n",
       "      <td>-1.0</td>\n",
       "      <td>12.0</td>\n",
       "      <td>639.0</td>\n",
       "    </tr>\n",
       "    <tr>\n",
       "      <th>4</th>\n",
       "      <td>8188.0</td>\n",
       "      <td>12.994016</td>\n",
       "      <td>39.360946</td>\n",
       "      <td>-42.0</td>\n",
       "      <td>-6.0</td>\n",
       "      <td>1.0</td>\n",
       "      <td>17.0</td>\n",
       "      <td>1082.0</td>\n",
       "    </tr>\n",
       "    <tr>\n",
       "      <th>5</th>\n",
       "      <td>8209.0</td>\n",
       "      <td>11.036545</td>\n",
       "      <td>32.415069</td>\n",
       "      <td>-48.0</td>\n",
       "      <td>-6.0</td>\n",
       "      <td>1.0</td>\n",
       "      <td>16.0</td>\n",
       "      <td>560.0</td>\n",
       "    </tr>\n",
       "    <tr>\n",
       "      <th>6</th>\n",
       "      <td>5614.0</td>\n",
       "      <td>4.283933</td>\n",
       "      <td>32.518381</td>\n",
       "      <td>-47.0</td>\n",
       "      <td>-9.0</td>\n",
       "      <td>-3.0</td>\n",
       "      <td>6.0</td>\n",
       "      <td>917.0</td>\n",
       "    </tr>\n",
       "    <tr>\n",
       "      <th>7</th>\n",
       "      <td>7331.0</td>\n",
       "      <td>7.045287</td>\n",
       "      <td>30.820505</td>\n",
       "      <td>-55.0</td>\n",
       "      <td>-7.0</td>\n",
       "      <td>-1.0</td>\n",
       "      <td>11.0</td>\n",
       "      <td>685.0</td>\n",
       "    </tr>\n",
       "  </tbody>\n",
       "</table>\n",
       "</div>"
      ],
      "text/plain": [
       "                    count       mean        std   min   25%  50%   75%     max\n",
       "Origin DayOfWeek                                                              \n",
       "ATL    1          60598.0   9.123436  30.958642 -69.0  -8.0  1.0  14.0   407.0\n",
       "       2          59732.0   8.933587  34.750658 -89.0  -9.0 -1.0  13.0   848.0\n",
       "       3          60245.0   8.809146  34.343042 -56.0  -9.0  0.0  13.0   876.0\n",
       "       4          59721.0  10.186501  35.261512 -51.0  -8.0  1.0  15.0   571.0\n",
       "       5          60007.0  14.797440  38.859778 -51.0  -7.0  3.0  20.0   699.0\n",
       "       6          49734.0   9.511662  36.020584 -61.0 -10.0 -1.0  15.0   483.0\n",
       "       7          57664.0  13.798627  42.466233 -86.0  -8.0  1.0  17.0   612.0\n",
       "HOU    1           8205.0   6.356856  28.887113 -47.0  -7.0 -2.0   9.0   383.0\n",
       "       2           8368.0   9.348112  35.321852 -44.0  -7.0 -1.0  12.0   546.0\n",
       "       3           8330.0   9.073109  33.191673 -39.0  -7.0 -1.0  12.0   639.0\n",
       "       4           8188.0  12.994016  39.360946 -42.0  -6.0  1.0  17.0  1082.0\n",
       "       5           8209.0  11.036545  32.415069 -48.0  -6.0  1.0  16.0   560.0\n",
       "       6           5614.0   4.283933  32.518381 -47.0  -9.0 -3.0   6.0   917.0\n",
       "       7           7331.0   7.045287  30.820505 -55.0  -7.0 -1.0  11.0   685.0"
      ]
     },
     "execution_count": 18,
     "metadata": {},
     "output_type": "execute_result"
    }
   ],
   "source": [
    "mygroupby.describe()"
   ]
  }
 ],
 "metadata": {
  "kernelspec": {
   "display_name": "Python 3 (ipykernel)",
   "language": "python",
   "name": "python3"
  },
  "language_info": {
   "codemirror_mode": {
    "name": "ipython",
    "version": 3
   },
   "file_extension": ".py",
   "mimetype": "text/x-python",
   "name": "python",
   "nbconvert_exporter": "python",
   "pygments_lexer": "ipython3",
   "version": "3.9.13"
  }
 },
 "nbformat": 4,
 "nbformat_minor": 5
}
