{
 "cells": [
  {
   "cell_type": "code",
   "execution_count": 3,
   "id": "477a61ec-816c-474d-a39b-7d2350dbd348",
   "metadata": {},
   "outputs": [],
   "source": [
    "import pandas as pd\n",
    "import numpy as np\n",
    "df = pd.read_csv(\"/home/dan/Data_science/Curso_LinkedIn/2008.csv\")"
   ]
  },
  {
   "cell_type": "markdown",
   "id": "1315d0bf-eaca-4d58-b26f-5021ad29cde5",
   "metadata": {},
   "source": [
    "### Test Chi-cuadrado\n",
    "Permite un criterio sólido para encontrar relaciones entre variables cualitativas usando las tablas de contingencia.\n",
    "El fundamento de este test es comparar la suma de diferencias al cuadrado entre lo que estamos observando (datos reales) y lo que cabria esperar en una situacion donde no existe ninguna relacion entre variables. Esto permite cuantificar la magnitud de todas estas distancias, compararlas con una distribución, que es la de la chi-cuadrado, y decidir si podemos afirmar que estas variables estan relacionadas significativamente.\n",
    "\n",
    "$$X^{2} = \\sum_{i=1}^{k}{\\frac{{(observado_i - esperado_i)}^{2}}{esperado_i}}$$\n",
    "\n",
    "Una de las devilidades de este test es que no permite cuantificar cada una de las relaciones entre categorias, pero permite afirmaciones globales del tipo: \"fumar esta relacionado significativamente con el cancer de pulmón\"."
   ]
  },
  {
   "cell_type": "code",
   "execution_count": 4,
   "id": "9ba58a26-5317-4f3d-a98a-dfdbc9a08f01",
   "metadata": {},
   "outputs": [],
   "source": [
    "np.random.seed(0) # se fija una semilla para obtener los mismo valores pseudoaleatorios que en el tutorial\n",
    "df = df[df[\"Origin\"].isin([\"HOU\", \"ATL\", \"IND\"])] # subset solo origen HOU, ATL e IND\n",
    "df = df.sample(frac = 1) #mezcla las columnas (desordena)\n",
    "df = df[0:10000] # Tomamos una muestra de 10mil"
   ]
  },
  {
   "cell_type": "code",
   "execution_count": 5,
   "id": "9cbc4ed2-ec4f-4dbf-9d3e-5fd1e07d198a",
   "metadata": {},
   "outputs": [],
   "source": [
    "df[\"BigDelay\"] = df[\"ArrDelay\"] > 30 #Crea una nueva columna de falso y verdadero segun se cumpla la condicion\n",
    "observados = pd.crosstab(index=df[\"BigDelay\"], columns=df[\"Origin\"], margins=True) #Genera TABLA DE CONTINGENCIA\n",
    "#magins se refiere a la columna y fila All"
   ]
  },
  {
   "cell_type": "code",
   "execution_count": 6,
   "id": "dbf4cfbc-debd-450c-95b4-1c84f9128fa4",
   "metadata": {},
   "outputs": [
    {
     "data": {
      "text/html": [
       "<div>\n",
       "<style scoped>\n",
       "    .dataframe tbody tr th:only-of-type {\n",
       "        vertical-align: middle;\n",
       "    }\n",
       "\n",
       "    .dataframe tbody tr th {\n",
       "        vertical-align: top;\n",
       "    }\n",
       "\n",
       "    .dataframe thead th {\n",
       "        text-align: right;\n",
       "    }\n",
       "</style>\n",
       "<table border=\"1\" class=\"dataframe\">\n",
       "  <thead>\n",
       "    <tr style=\"text-align: right;\">\n",
       "      <th>Origin</th>\n",
       "      <th>ATL</th>\n",
       "      <th>HOU</th>\n",
       "      <th>IND</th>\n",
       "      <th>All</th>\n",
       "    </tr>\n",
       "    <tr>\n",
       "      <th>BigDelay</th>\n",
       "      <th></th>\n",
       "      <th></th>\n",
       "      <th></th>\n",
       "      <th></th>\n",
       "    </tr>\n",
       "  </thead>\n",
       "  <tbody>\n",
       "    <tr>\n",
       "      <th>False</th>\n",
       "      <td>6927</td>\n",
       "      <td>883</td>\n",
       "      <td>765</td>\n",
       "      <td>8575</td>\n",
       "    </tr>\n",
       "    <tr>\n",
       "      <th>True</th>\n",
       "      <td>1197</td>\n",
       "      <td>129</td>\n",
       "      <td>99</td>\n",
       "      <td>1425</td>\n",
       "    </tr>\n",
       "    <tr>\n",
       "      <th>All</th>\n",
       "      <td>8124</td>\n",
       "      <td>1012</td>\n",
       "      <td>864</td>\n",
       "      <td>10000</td>\n",
       "    </tr>\n",
       "  </tbody>\n",
       "</table>\n",
       "</div>"
      ],
      "text/plain": [
       "Origin     ATL   HOU  IND    All\n",
       "BigDelay                        \n",
       "False     6927   883  765   8575\n",
       "True      1197   129   99   1425\n",
       "All       8124  1012  864  10000"
      ]
     },
     "execution_count": 6,
     "metadata": {},
     "output_type": "execute_result"
    }
   ],
   "source": [
    "observados"
   ]
  },
  {
   "cell_type": "code",
   "execution_count": 7,
   "id": "6edd39a0-64c2-4035-960b-8948f9a582bb",
   "metadata": {},
   "outputs": [],
   "source": [
    "from scipy.stats import chi2_contingency"
   ]
  },
  {
   "cell_type": "code",
   "execution_count": 8,
   "id": "590f1b4b-1e29-4cda-b496-e507f0cc064c",
   "metadata": {},
   "outputs": [],
   "source": [
    "test = chi2_contingency(observados) #se aplica el test chi cuadrado sobre la tabla"
   ]
  },
  {
   "cell_type": "code",
   "execution_count": 9,
   "id": "e46f3bc2-d670-43b3-989e-43ae6655afe0",
   "metadata": {},
   "outputs": [
    {
     "data": {
      "text/plain": [
       "(8.939538453043031,\n",
       " 0.17700704816414425,\n",
       " 6,\n",
       " array([[ 6966.33,   867.79,   740.88,  8575.  ],\n",
       "        [ 1157.67,   144.21,   123.12,  1425.  ],\n",
       "        [ 8124.  ,  1012.  ,   864.  , 10000.  ]]))"
      ]
     },
     "execution_count": 9,
     "metadata": {},
     "output_type": "execute_result"
    }
   ],
   "source": [
    "test"
   ]
  },
  {
   "cell_type": "markdown",
   "id": "923c635c-6637-4ebc-9bf6-8545712e47a5",
   "metadata": {},
   "source": [
    "* El primer valor es el estadistico (suma de las diferencias al cuadrado)\n",
    "* El segundo es el **p-valor**, que es una medida que permite tomar desiciones basados en algun criterio\n",
    "* El tercero son los grados de libertad\n",
    "* Finalmente se obtiene la tabla de valores esperados, la cual se va a comparará con la tabla de valores observados"
   ]
  },
  {
   "cell_type": "code",
   "execution_count": 10,
   "id": "e7d9a0d9-4372-418d-8e69-4af93d1cd252",
   "metadata": {},
   "outputs": [],
   "source": [
    "esperados = pd.DataFrame(test[3]) # creamos un nuevo df con la tabla de valores esperados"
   ]
  },
  {
   "cell_type": "code",
   "execution_count": 12,
   "id": "efeede0e-c304-42ee-af8f-145325f3e978",
   "metadata": {},
   "outputs": [
    {
     "data": {
      "text/html": [
       "<div>\n",
       "<style scoped>\n",
       "    .dataframe tbody tr th:only-of-type {\n",
       "        vertical-align: middle;\n",
       "    }\n",
       "\n",
       "    .dataframe tbody tr th {\n",
       "        vertical-align: top;\n",
       "    }\n",
       "\n",
       "    .dataframe thead th {\n",
       "        text-align: right;\n",
       "    }\n",
       "</style>\n",
       "<table border=\"1\" class=\"dataframe\">\n",
       "  <thead>\n",
       "    <tr style=\"text-align: right;\">\n",
       "      <th></th>\n",
       "      <th>0</th>\n",
       "      <th>1</th>\n",
       "      <th>2</th>\n",
       "      <th>3</th>\n",
       "    </tr>\n",
       "  </thead>\n",
       "  <tbody>\n",
       "    <tr>\n",
       "      <th>0</th>\n",
       "      <td>6966.33</td>\n",
       "      <td>867.79</td>\n",
       "      <td>740.88</td>\n",
       "      <td>8575.0</td>\n",
       "    </tr>\n",
       "    <tr>\n",
       "      <th>1</th>\n",
       "      <td>1157.67</td>\n",
       "      <td>144.21</td>\n",
       "      <td>123.12</td>\n",
       "      <td>1425.0</td>\n",
       "    </tr>\n",
       "    <tr>\n",
       "      <th>2</th>\n",
       "      <td>8124.00</td>\n",
       "      <td>1012.00</td>\n",
       "      <td>864.00</td>\n",
       "      <td>10000.0</td>\n",
       "    </tr>\n",
       "  </tbody>\n",
       "</table>\n",
       "</div>"
      ],
      "text/plain": [
       "         0        1       2        3\n",
       "0  6966.33   867.79  740.88   8575.0\n",
       "1  1157.67   144.21  123.12   1425.0\n",
       "2  8124.00  1012.00  864.00  10000.0"
      ]
     },
     "execution_count": 12,
     "metadata": {},
     "output_type": "execute_result"
    }
   ],
   "source": [
    "esperados"
   ]
  },
  {
   "cell_type": "markdown",
   "id": "ec2bb296-52fe-4df4-a0ca-1d9459cda4ff",
   "metadata": {},
   "source": [
    "La tabla de esperados se refiere a los valores teoricos esperados si no existiera ninguntipo de relación, son una aproximación teórica, se hallan multiplicando el total (All) de la fila por el total de la columna de la celda seleccionada y dividiendolo entre el total de casos (10000). Sin embargo, varios de estos valores no son posibles ya que son decimales por lo que solo se considera como una aproximación teórica."
   ]
  },
  {
   "cell_type": "code",
   "execution_count": 13,
   "id": "c580ca4c-f3de-450f-b7fe-0fcad32cf050",
   "metadata": {},
   "outputs": [],
   "source": [
    "esperados_rel = round(esperados.apply(lambda r: r/len(df) * 100, axis = 1), 2) #pasa los valores a valores relativos (porcentajes)\n",
    "observados_rel = round(observados.apply(lambda r: r/len(df) * 100, axis = 1), 2) "
   ]
  },
  {
   "cell_type": "code",
   "execution_count": 14,
   "id": "3ec2d5cb-78b7-4229-a69f-68b81ebed239",
   "metadata": {},
   "outputs": [
    {
     "data": {
      "text/html": [
       "<div>\n",
       "<style scoped>\n",
       "    .dataframe tbody tr th:only-of-type {\n",
       "        vertical-align: middle;\n",
       "    }\n",
       "\n",
       "    .dataframe tbody tr th {\n",
       "        vertical-align: top;\n",
       "    }\n",
       "\n",
       "    .dataframe thead th {\n",
       "        text-align: right;\n",
       "    }\n",
       "</style>\n",
       "<table border=\"1\" class=\"dataframe\">\n",
       "  <thead>\n",
       "    <tr style=\"text-align: right;\">\n",
       "      <th>Origin</th>\n",
       "      <th>ATL</th>\n",
       "      <th>HOU</th>\n",
       "      <th>IND</th>\n",
       "      <th>All</th>\n",
       "    </tr>\n",
       "    <tr>\n",
       "      <th>BigDelay</th>\n",
       "      <th></th>\n",
       "      <th></th>\n",
       "      <th></th>\n",
       "      <th></th>\n",
       "    </tr>\n",
       "  </thead>\n",
       "  <tbody>\n",
       "    <tr>\n",
       "      <th>False</th>\n",
       "      <td>69.27</td>\n",
       "      <td>8.83</td>\n",
       "      <td>7.65</td>\n",
       "      <td>85.75</td>\n",
       "    </tr>\n",
       "    <tr>\n",
       "      <th>True</th>\n",
       "      <td>11.97</td>\n",
       "      <td>1.29</td>\n",
       "      <td>0.99</td>\n",
       "      <td>14.25</td>\n",
       "    </tr>\n",
       "    <tr>\n",
       "      <th>All</th>\n",
       "      <td>81.24</td>\n",
       "      <td>10.12</td>\n",
       "      <td>8.64</td>\n",
       "      <td>100.00</td>\n",
       "    </tr>\n",
       "  </tbody>\n",
       "</table>\n",
       "</div>"
      ],
      "text/plain": [
       "Origin      ATL    HOU   IND     All\n",
       "BigDelay                            \n",
       "False     69.27   8.83  7.65   85.75\n",
       "True      11.97   1.29  0.99   14.25\n",
       "All       81.24  10.12  8.64  100.00"
      ]
     },
     "execution_count": 14,
     "metadata": {},
     "output_type": "execute_result"
    }
   ],
   "source": [
    "observados_rel"
   ]
  },
  {
   "cell_type": "code",
   "execution_count": 15,
   "id": "2e0c4333-74d1-4cf5-9764-c8d6cf554781",
   "metadata": {},
   "outputs": [
    {
     "data": {
      "text/html": [
       "<div>\n",
       "<style scoped>\n",
       "    .dataframe tbody tr th:only-of-type {\n",
       "        vertical-align: middle;\n",
       "    }\n",
       "\n",
       "    .dataframe tbody tr th {\n",
       "        vertical-align: top;\n",
       "    }\n",
       "\n",
       "    .dataframe thead th {\n",
       "        text-align: right;\n",
       "    }\n",
       "</style>\n",
       "<table border=\"1\" class=\"dataframe\">\n",
       "  <thead>\n",
       "    <tr style=\"text-align: right;\">\n",
       "      <th></th>\n",
       "      <th>0</th>\n",
       "      <th>1</th>\n",
       "      <th>2</th>\n",
       "      <th>3</th>\n",
       "    </tr>\n",
       "  </thead>\n",
       "  <tbody>\n",
       "    <tr>\n",
       "      <th>0</th>\n",
       "      <td>69.66</td>\n",
       "      <td>8.68</td>\n",
       "      <td>7.41</td>\n",
       "      <td>85.75</td>\n",
       "    </tr>\n",
       "    <tr>\n",
       "      <th>1</th>\n",
       "      <td>11.58</td>\n",
       "      <td>1.44</td>\n",
       "      <td>1.23</td>\n",
       "      <td>14.25</td>\n",
       "    </tr>\n",
       "    <tr>\n",
       "      <th>2</th>\n",
       "      <td>81.24</td>\n",
       "      <td>10.12</td>\n",
       "      <td>8.64</td>\n",
       "      <td>100.00</td>\n",
       "    </tr>\n",
       "  </tbody>\n",
       "</table>\n",
       "</div>"
      ],
      "text/plain": [
       "       0      1     2       3\n",
       "0  69.66   8.68  7.41   85.75\n",
       "1  11.58   1.44  1.23   14.25\n",
       "2  81.24  10.12  8.64  100.00"
      ]
     },
     "execution_count": 15,
     "metadata": {},
     "output_type": "execute_result"
    }
   ],
   "source": [
    "esperados_rel"
   ]
  },
  {
   "cell_type": "code",
   "execution_count": 17,
   "id": "c22b3d27-8406-45fa-bc64-954187de2a69",
   "metadata": {},
   "outputs": [
    {
     "data": {
      "text/plain": [
       "0.17700704816414425"
      ]
     },
     "execution_count": 17,
     "metadata": {},
     "output_type": "execute_result"
    }
   ],
   "source": [
    "test[1] # p-valor"
   ]
  },
  {
   "cell_type": "markdown",
   "id": "0cfd95db-4791-4c06-91e3-186956b9d180",
   "metadata": {},
   "source": [
    "### Resumen de test de hipótesis\n",
    "* si el p-valor < 0.05 hay diferencias significativas => **Hay relación entre variables**\n",
    "* si el p-valor > 0.05 no hay diferencias significativas => **No hay relacion entre variables**\n",
    "\n",
    "En este caso p-valor > 0.05 por lo tanto no hay relación entre las variables"
   ]
  },
  {
   "cell_type": "markdown",
   "id": "6c5e2ad0-42a3-481e-bc6f-a8c91eda2766",
   "metadata": {},
   "source": [
    "## Chi cuadrado \"manual\":"
   ]
  },
  {
   "cell_type": "code",
   "execution_count": 66,
   "id": "c6b061b5-3952-4213-bd1f-cb0cf94fae22",
   "metadata": {},
   "outputs": [],
   "source": [
    "observados_p = observados.values[0:2, 0:3]"
   ]
  },
  {
   "cell_type": "code",
   "execution_count": 67,
   "id": "db48f062-d9d6-42f0-88ce-72122fdd093f",
   "metadata": {},
   "outputs": [
    {
     "data": {
      "text/plain": [
       "array([[6927,  883,  765],\n",
       "       [1197,  129,   99]])"
      ]
     },
     "execution_count": 67,
     "metadata": {},
     "output_type": "execute_result"
    }
   ],
   "source": [
    "observados_p"
   ]
  },
  {
   "cell_type": "code",
   "execution_count": 68,
   "id": "118411d4-056d-4993-91c9-e229d99a1ff4",
   "metadata": {},
   "outputs": [],
   "source": [
    "esperados_p = esperados.values[0:2, 0:3]"
   ]
  },
  {
   "cell_type": "code",
   "execution_count": 69,
   "id": "b30485b2-080e-4371-8880-9157938c3ada",
   "metadata": {},
   "outputs": [
    {
     "data": {
      "text/plain": [
       "array([[6966.33,  867.79,  740.88],\n",
       "       [1157.67,  144.21,  123.12]])"
      ]
     },
     "execution_count": 69,
     "metadata": {},
     "output_type": "execute_result"
    }
   ],
   "source": [
    "esperados_p"
   ]
  },
  {
   "cell_type": "markdown",
   "id": "7f47469c-85ec-49f9-98ab-e9b14414b764",
   "metadata": {},
   "source": [
    "Aplicamos:\n",
    "$$X^{2} = \\sum_{i=1}^{k}{\\frac{{(observado_i - esperado_i)}^{2}}{esperado_i}}$$"
   ]
  },
  {
   "cell_type": "code",
   "execution_count": 70,
   "id": "2b7c06b1-5301-4e29-973a-c8bdad3481de",
   "metadata": {},
   "outputs": [],
   "source": [
    "X2 = (observados_p - esperados_p)**2 / esperados_p"
   ]
  },
  {
   "cell_type": "code",
   "execution_count": 80,
   "id": "d0808459-77f6-457e-b390-22cfbe079942",
   "metadata": {},
   "outputs": [
    {
     "data": {
      "text/plain": [
       "8.939538453043031"
      ]
     },
     "execution_count": 80,
     "metadata": {},
     "output_type": "execute_result"
    }
   ],
   "source": [
    "X2_value = X2.sum()\n",
    "X2_value"
   ]
  },
  {
   "cell_type": "markdown",
   "id": "cfb6327a-038a-4946-b7e7-839cc28e4624",
   "metadata": {},
   "source": [
    "El valor obtenido es el resultado de la prueba de Chi cuadrado pero aun no es el p-valor, ya que este se obtiene a partir de la curva y tablas de distribucion de chi cuadrado"
   ]
  },
  {
   "cell_type": "code",
   "execution_count": 106,
   "id": "266dd6b4-2b2c-431f-9712-1cae9cdb48ba",
   "metadata": {},
   "outputs": [],
   "source": [
    "from scipy.stats import chi2"
   ]
  },
  {
   "cell_type": "code",
   "execution_count": 118,
   "id": "1ffee66a-30b1-4fe8-b190-7a169f4d6576",
   "metadata": {},
   "outputs": [
    {
     "data": {
      "text/plain": [
       "0.17700704816414425"
      ]
     },
     "execution_count": 118,
     "metadata": {},
     "output_type": "execute_result"
    }
   ],
   "source": [
    "#p_value = chi2.cdf(X2_value, 6) # Se calcula el p-value a partir del resultado de X2 y los grados de libertad\n",
    "p_value = chi2.sf(X2_value, 6) # Se calcula el p-value a partir del resultado de X2 y los grados de libertad\n",
    "p_value"
   ]
  },
  {
   "cell_type": "markdown",
   "id": "5739b914-4a36-4626-a668-a2e9b32ed987",
   "metadata": {},
   "source": [
    "* Con **chi2.cdf() (Cumulative distribution function)** se resta a 1 ya que la densidad de probabilidad que queremos se ubica de derecha a izquierda y la funcion chi2.cdf() nos la da de izquierda a derecha.\n",
    "* En cambio **chi2.sf() (Survival function)** nos da la densidad de probabilidad que queremos, se define como: 1 - chi2.cdf()\n",
    "\n",
    "Consultar https://docs.scipy.org/doc/scipy/reference/generated/scipy.stats.chi2.html para conocer todos los métodos\n"
   ]
  }
 ],
 "metadata": {
  "kernelspec": {
   "display_name": "Python 3 (ipykernel)",
   "language": "python",
   "name": "python3"
  },
  "language_info": {
   "codemirror_mode": {
    "name": "ipython",
    "version": 3
   },
   "file_extension": ".py",
   "mimetype": "text/x-python",
   "name": "python",
   "nbconvert_exporter": "python",
   "pygments_lexer": "ipython3",
   "version": "3.9.7"
  }
 },
 "nbformat": 4,
 "nbformat_minor": 5
}
